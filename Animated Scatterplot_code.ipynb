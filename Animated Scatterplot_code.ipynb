{
 "cells": [
  {
   "cell_type": "markdown",
   "metadata": {},
   "source": [
    "# <center>Animated Scatterplot</center>\n",
    "\n",
    "##### <center>An epic data visualization / storytelling similar to [Hans Rosling’s famous animation](https://www.youtube.com/watch?v=jbkSRLYSojo&feature=youtu.be)</center>\n",
    "\n",
    "    - Read in data from multiple sources: \n",
    "        - worldwide fertility rate data\n",
    "        - worldwide life expectancy data\n",
    "        - worldwide population data\n",
    "        \n",
    "    - Merge all the data into a single DataFrame.\n",
    "    - Generate a scatterplot for a single year.\n",
    "    - Combine images of scatterplots of all years to make an animation / gif."
   ]
  },
  {
   "cell_type": "code",
   "execution_count": 2,
   "metadata": {},
   "outputs": [],
   "source": [
    "import pandas as pd"
   ]
  },
  {
   "cell_type": "code",
   "execution_count": 3,
   "metadata": {},
   "outputs": [],
   "source": [
    "fert = pd.read_csv('./raw data/gapminder_total_fertility.csv', index_col=0)\n",
    "life = pd.read_excel('./raw data/gapminder_lifeexpectancy.xlsx', index_col=0)"
   ]
  },
  {
   "cell_type": "code",
   "execution_count": 4,
   "metadata": {},
   "outputs": [
    {
     "name": "stdout",
     "output_type": "stream",
     "text": [
      "(260, 216)\n",
      "(260, 217)\n"
     ]
    }
   ],
   "source": [
    "print(fert.shape)\n",
    "print(life.shape)"
   ]
  },
  {
   "cell_type": "code",
   "execution_count": 5,
   "metadata": {},
   "outputs": [
    {
     "data": {
      "text/plain": [
       "Index(['1800', '1801', '1802', '1803', '1804', '1805', '1806', '1807', '1808',\n",
       "       '1809',\n",
       "       ...\n",
       "       '2006', '2007', '2008', '2009', '2010', '2011', '2012', '2013', '2014',\n",
       "       '2015'],\n",
       "      dtype='object', length=216)"
      ]
     },
     "execution_count": 5,
     "metadata": {},
     "output_type": "execute_result"
    }
   ],
   "source": [
    "fert.columns"
   ]
  },
  {
   "cell_type": "code",
   "execution_count": 6,
   "metadata": {},
   "outputs": [
    {
     "data": {
      "text/plain": [
       "Int64Index([1800, 1801, 1802, 1803, 1804, 1805, 1806, 1807, 1808, 1809,\n",
       "            ...\n",
       "            2007, 2008, 2009, 2010, 2011, 2012, 2013, 2014, 2015, 2016],\n",
       "           dtype='int64', length=217)"
      ]
     },
     "execution_count": 6,
     "metadata": {},
     "output_type": "execute_result"
    }
   ],
   "source": [
    "life.columns"
   ]
  },
  {
   "cell_type": "code",
   "execution_count": 7,
   "metadata": {},
   "outputs": [],
   "source": [
    "fert.columns = fert.columns.astype(int)"
   ]
  },
  {
   "cell_type": "code",
   "execution_count": 8,
   "metadata": {},
   "outputs": [
    {
     "data": {
      "text/plain": [
       "Int64Index([1800, 1801, 1802, 1803, 1804, 1805, 1806, 1807, 1808, 1809,\n",
       "            ...\n",
       "            2006, 2007, 2008, 2009, 2010, 2011, 2012, 2013, 2014, 2015],\n",
       "           dtype='int64', length=216)"
      ]
     },
     "execution_count": 8,
     "metadata": {},
     "output_type": "execute_result"
    }
   ],
   "source": [
    "fert.columns"
   ]
  },
  {
   "cell_type": "code",
   "execution_count": 9,
   "metadata": {},
   "outputs": [
    {
     "data": {
      "text/plain": [
       "Index(['Abkhazia', 'Afghanistan', 'Akrotiri and Dhekelia', 'Albania',\n",
       "       'Algeria', 'American Samoa', 'Andorra', 'Angola', 'Anguilla',\n",
       "       'Antigua and Barbuda',\n",
       "       ...\n",
       "       'Vietnam', 'Virgin Islands (U.S.)', 'North Yemen (former)',\n",
       "       'South Yemen (former)', 'Yemen', 'Yugoslavia', 'Zambia', 'Zimbabwe',\n",
       "       'Åland', 'Åland'],\n",
       "      dtype='object', name='Total fertility rate', length=260)"
      ]
     },
     "execution_count": 9,
     "metadata": {},
     "output_type": "execute_result"
    }
   ],
   "source": [
    "fert.index"
   ]
  },
  {
   "cell_type": "code",
   "execution_count": 10,
   "metadata": {},
   "outputs": [],
   "source": [
    "fert.index.name = 'country'"
   ]
  },
  {
   "cell_type": "code",
   "execution_count": 11,
   "metadata": {},
   "outputs": [],
   "source": [
    "fert = fert.reset_index()"
   ]
  },
  {
   "cell_type": "code",
   "execution_count": 12,
   "metadata": {},
   "outputs": [],
   "source": [
    "fert = fert.melt(id_vars='country', var_name='year', value_name='fertility_rate')"
   ]
  },
  {
   "cell_type": "code",
   "execution_count": 13,
   "metadata": {},
   "outputs": [],
   "source": [
    "life.index\n",
    "life.index.name = 'country'\n",
    "life = life.reset_index()\n",
    "life = life.melt(id_vars='country', var_name='year', value_name='life_expectancy')"
   ]
  },
  {
   "cell_type": "code",
   "execution_count": 14,
   "metadata": {},
   "outputs": [
    {
     "data": {
      "text/plain": [
       "Int64Index([1800, 1810, 1820, 1830, 1840, 1850, 1860, 1870, 1880, 1890, 1900,\n",
       "            1910, 1920, 1930, 1940, 1950, 1951, 1952, 1953, 1954, 1955, 1956,\n",
       "            1957, 1958, 1959, 1960, 1961, 1962, 1963, 1964, 1965, 1966, 1967,\n",
       "            1968, 1969, 1970, 1971, 1972, 1973, 1974, 1975, 1976, 1977, 1978,\n",
       "            1979, 1980, 1981, 1982, 1983, 1984, 1985, 1986, 1987, 1988, 1989,\n",
       "            1990, 1991, 1992, 1993, 1994, 1995, 1996, 1997, 1998, 1999, 2000,\n",
       "            2001, 2002, 2003, 2004, 2005, 2006, 2007, 2008, 2009, 2010, 2011,\n",
       "            2012, 2013, 2014, 2015],\n",
       "           dtype='int64')"
      ]
     },
     "execution_count": 14,
     "metadata": {},
     "output_type": "execute_result"
    }
   ],
   "source": [
    "pop = pd.read_excel('./raw data/gapminder_population.xlsx', index_col=0)\n",
    "pop.columns"
   ]
  },
  {
   "cell_type": "code",
   "execution_count": 15,
   "metadata": {},
   "outputs": [],
   "source": [
    "pop.index.name = 'country'\n",
    "pop = pop.reset_index()\n",
    "pop = pop.melt(id_vars='country', var_name='year', value_name='total_population')"
   ]
  },
  {
   "cell_type": "code",
   "execution_count": 16,
   "metadata": {},
   "outputs": [],
   "source": [
    "df = fert.merge(pop)\n",
    "df = df.merge(life)"
   ]
  },
  {
   "cell_type": "code",
   "execution_count": 17,
   "metadata": {},
   "outputs": [],
   "source": [
    "import seaborn as sns \n",
    "import matplotlib.pyplot as plt "
   ]
  },
  {
   "cell_type": "code",
   "execution_count": 18,
   "metadata": {},
   "outputs": [],
   "source": [
    "sns.set_theme(style=\"white\")"
   ]
  },
  {
   "cell_type": "code",
   "execution_count": 19,
   "metadata": {},
   "outputs": [
    {
     "data": {
      "image/png": "[encoded data removed]",
      "text/plain": [
       "<Figure size 432x288 with 1 Axes>"
      ]
     },
     "metadata": {},
     "output_type": "display_data"
    }
   ],
   "source": [
    "df_subset = df.loc[df['country'].isin(['France', 'Germany', 'Sweden'])] \n",
    "plt.axis((1959, 2016, 65, 85))\n",
    "sns.lineplot(x='year', y='life_expectancy', hue='country', data=df_subset);"
   ]
  },
  {
   "cell_type": "code",
   "execution_count": 20,
   "metadata": {},
   "outputs": [
    {
     "data": {
      "image/png": "[encoded data removed]",
      "text/plain": [
       "<Figure size 432x288 with 1 Axes>"
      ]
     },
     "metadata": {},
     "output_type": "display_data"
    }
   ],
   "source": [
    "plt.axis((1959, 2016, 65, 85))\n",
    "sns.scatterplot(x='year', y='life_expectancy', hue='country', data=df_subset, alpha=0.6);"
   ]
  },
  {
   "cell_type": "code",
   "execution_count": 21,
   "metadata": {},
   "outputs": [],
   "source": [
    "import pycountry_convert as pc\n",
    "import numpy as np\n",
    "\n",
    "from pycountry_convert import country_alpha2_to_continent_code, country_name_to_country_alpha2\n",
    "def get_continent(col):\n",
    "    try:\n",
    "        cn_a2_code =  country_name_to_country_alpha2(col)\n",
    "    except:\n",
    "        cn_a2_code = 'NaN'\n",
    "    try:\n",
    "        cn_continent = country_alpha2_to_continent_code(cn_a2_code)\n",
    "    except:\n",
    "        cn_continent = 'NaN'\n",
    "    return (cn_continent)\n",
    "\n",
    "continent = []\n",
    "for country in df['country']:\n",
    "    item = get_continent(country)\n",
    "    continent.append(item)\n",
    "\n",
    "df['continent']=continent\n",
    "df['continent']=df['continent'].replace('AS','Asia').replace('EU','Europe').replace('AF','Africa').replace('OC','Oceania').replace('NA','North America').replace('SA','South America').replace('NaN','Other')"
   ]
  },
  {
   "cell_type": "code",
   "execution_count": 22,
   "metadata": {},
   "outputs": [
    {
     "data": {
      "text/plain": [
       "<Figure size 432x288 with 0 Axes>"
      ]
     },
     "metadata": {},
     "output_type": "display_data"
    }
   ],
   "source": [
    "import numpy as np\n",
    "\n",
    "xmin=df['life_expectancy'].min()\n",
    "xmax=df['life_expectancy'].max()\n",
    "ymin=df['fertility_rate'].min()\n",
    "ymax=df['fertility_rate'].max()\n",
    "\n",
    "for year in range(1960,2016,1):\n",
    "    df_subset = df.loc[df['year'].isin([year])]\n",
    "    path = \"./lifeexp/\"\n",
    "    plot = sns.scatterplot(x='life_expectancy', y='fertility_rate', data=df_subset, alpha=1).get_figure()\n",
    "    plt.axis((xmin,xmax,ymin,ymax))\n",
    "    plot.savefig(path + \"lifeexp_\" + str(year) + \".png\")\n",
    "    plot.clf()"
   ]
  },
  {
   "cell_type": "code",
   "execution_count": 28,
   "metadata": {},
   "outputs": [
    {
     "data": {
      "image/png": "[encoded data removed]",
      "text/plain": [
       "<Figure size 432x288 with 1 Axes>"
      ]
     },
     "metadata": {},
     "output_type": "display_data"
    }
   ],
   "source": [
    "fig, ax = plt.subplots()\n",
    "\n",
    "for year in range(1960,2016,1):\n",
    "    df_subset = df.loc[df['year'].isin([year])]\n",
    "    path = \"./lifeexp_popadj/\"\n",
    "    \n",
    "    plot = sns.scatterplot(x=\"life_expectancy\", y=\"fertility_rate\", hue=\"continent\", \n",
    "            size=df['total_population'], sizes=(40, 400), alpha=0.6, palette=\"muted\", \n",
    "             legend='auto', ax=ax, data=df_subset).get_figure()\n",
    "    \n",
    "    handle, label = ax.get_legend_handles_labels()\n",
    "    label_edit = [i.replace('continent','Continent').replace('total_population','Population [Billion]') for i in label]\n",
    "\n",
    "    handle.insert(8,handle[0])\n",
    "    label_edit.insert(8,\" \")\n",
    "\n",
    "    legend=ax.legend(handle, label_edit, bbox_to_anchor=(1,1),loc=2)\n",
    "    \n",
    "    ax.set_xlabel('Life expectancy', fontsize = 12)\n",
    "    ax.set_ylabel('Fertility rate', fontsize = 12)\n",
    "    ax.set_title('Life Expectancy - Fertility Rate Correlation in ' + str(year), x=0.5, y=1.05, fontsize = 16)\n",
    "    plt.axis((xmin,xmax,ymin,ymax))\n",
    "    \n",
    "    plot.savefig(path + \"lifeexp_\" + str(year) + \".png\", bbox_extra_artists=(legend,), bbox_inches='tight');\n",
    "    ax.cla()"
   ]
  },
  {
   "cell_type": "code",
   "execution_count": 29,
   "metadata": {},
   "outputs": [],
   "source": [
    "import imageio\n",
    "\n",
    "images = []\n",
    "\n",
    "for year in range(1960, 2016, 1):\n",
    "    filename = './lifeexp_popadj/lifeexp_{}.png'.format(year)\n",
    "    images.append(imageio.imread(filename))\n",
    "\n",
    "imageio.mimsave('Animated Scatterplot_10fps_output.gif', images, fps=10)"
   ]
  },
  {
   "cell_type": "markdown",
   "metadata": {},
   "source": []
  }
 ],
 "metadata": {
  "kernelspec": {
   "display_name": "Python 3",
   "language": "python",
   "name": "python3"
  },
  "language_info": {
   "codemirror_mode": {
    "name": "ipython",
    "version": 3
   },
   "file_extension": ".py",
   "mimetype": "text/x-python",
   "name": "python",
   "nbconvert_exporter": "python",
   "pygments_lexer": "ipython3",
   "version": "3.8.5"
  }
 },
 "nbformat": 4,
 "nbformat_minor": 4
}
